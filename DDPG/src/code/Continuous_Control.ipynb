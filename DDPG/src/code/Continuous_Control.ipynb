{
 "cells": [
  {
   "cell_type": "code",
   "execution_count": 14,
   "metadata": {},
   "outputs": [],
   "source": [
    "from unityagents import UnityEnvironment\n",
    "import numpy as np\n",
    "import time\n",
    "import matplotlib.pyplot as plt\n",
    "from agent import Agent\n",
    "\n",
    "import torch"
   ]
  },
  {
   "cell_type": "code",
   "execution_count": 2,
   "metadata": {},
   "outputs": [
    {
     "name": "stderr",
     "output_type": "stream",
     "text": [
      "INFO:unityagents:\n",
      "'Academy' started successfully!\n",
      "Unity Academy name: Academy\n",
      "        Number of Brains: 1\n",
      "        Number of External Brains : 1\n",
      "        Lesson number : 0\n",
      "        Reset Parameters :\n",
      "\t\tgoal_speed -> 1.0\n",
      "\t\tgoal_size -> 5.0\n",
      "Unity brain name: ReacherBrain\n",
      "        Number of Visual Observations (per agent): 0\n",
      "        Vector Observation space type: continuous\n",
      "        Vector Observation space size (per agent): 33\n",
      "        Number of stacked Vector Observation: 1\n",
      "        Vector Action space type: continuous\n",
      "        Vector Action space size (per agent): 4\n",
      "        Vector Action descriptions: , , , \n"
     ]
    }
   ],
   "source": [
    "#Single Agent reacher\n",
    "env = UnityEnvironment(file_name='../unity/Reacher.app')"
   ]
  },
  {
   "cell_type": "code",
   "execution_count": 3,
   "metadata": {},
   "outputs": [],
   "source": [
    "# get the default brain\n",
    "brain_name = env.brain_names[0]\n",
    "brain = env.brains[brain_name]"
   ]
  },
  {
   "cell_type": "markdown",
   "metadata": {},
   "source": [
    "## Examine State and Action Space"
   ]
  },
  {
   "cell_type": "markdown",
   "metadata": {},
   "source": [
    "<p>\n",
    "In this environment, a double-jointed arm can move to target locations. A reward of +0.1 is provided for each step that the agent's hand is in the goal location. Thus, the goal of your agent is to maintain its position at the target location for as many time steps as possible.\n",
    "</p>\n",
    "<p>\n",
    "The observation space consists of 33 variables corresponding to position, rotation, velocity, and angular velocities of the arm. Each action is a vector with four numbers, corresponding to torque applicable to two joints. Every entry in the action vector must be a number between -1 and 1.\n",
    "</p>"
   ]
  },
  {
   "cell_type": "code",
   "execution_count": 4,
   "metadata": {},
   "outputs": [
    {
     "name": "stdout",
     "output_type": "stream",
     "text": [
      "Number of agents: 1\n",
      "Size of each action: 4\n",
      "There are 1 agents. Each observes a state with length: 33\n",
      "The state for the first agent looks like: [ 0.00000000e+00 -4.00000000e+00  0.00000000e+00  1.00000000e+00\n",
      " -0.00000000e+00 -0.00000000e+00 -4.37113883e-08  0.00000000e+00\n",
      "  0.00000000e+00  0.00000000e+00  0.00000000e+00  0.00000000e+00\n",
      "  0.00000000e+00  0.00000000e+00 -1.00000000e+01  0.00000000e+00\n",
      "  1.00000000e+00 -0.00000000e+00 -0.00000000e+00 -4.37113883e-08\n",
      "  0.00000000e+00  0.00000000e+00  0.00000000e+00  0.00000000e+00\n",
      "  0.00000000e+00  0.00000000e+00  5.75471878e+00 -1.00000000e+00\n",
      "  5.55726671e+00  0.00000000e+00  1.00000000e+00  0.00000000e+00\n",
      " -1.68164849e-01]\n"
     ]
    }
   ],
   "source": [
    "# reset the environment\n",
    "env_info = env.reset(train_mode=True)[brain_name]\n",
    "\n",
    "# number of agents\n",
    "num_agents = len(env_info.agents)\n",
    "print('Number of agents:', num_agents)\n",
    "\n",
    "# size of each action\n",
    "action_size = brain.vector_action_space_size\n",
    "print('Size of each action:', action_size)\n",
    "\n",
    "# examine the state space \n",
    "states = env_info.vector_observations\n",
    "state_size = states.shape[1]\n",
    "print('There are {} agents. Each observes a state with length: {}'.format(states.shape[0], state_size))\n",
    "print('The state for the first agent looks like:', states[0])"
   ]
  },
  {
   "cell_type": "markdown",
   "metadata": {},
   "source": [
    "## Random Walk"
   ]
  },
  {
   "cell_type": "code",
   "execution_count": 11,
   "metadata": {},
   "outputs": [
    {
     "name": "stdout",
     "output_type": "stream",
     "text": [
      "Total score (averaged over agents) this episode: 0.0\n"
     ]
    }
   ],
   "source": [
    "states = env_info.vector_observations                  # get the current state (for each agent)\n",
    "scores = np.zeros(num_agents)                          # initialize the score (for each agent)\n",
    "while True:\n",
    "    actions = np.random.randn(num_agents, action_size) # select an action (for each agent)\n",
    "    actions = np.clip(actions, -1, 1)                  # all actions between -1 and 1\n",
    "    env_info = env.step(actions)[brain_name]           # send all actions to tne environment\n",
    "    next_states = env_info.vector_observations         # get next state (for each agent)\n",
    "    rewards = env_info.rewards                         # get reward (for each agent)\n",
    "    dones = env_info.local_done                        # see if episode finished\n",
    "    scores += env_info.rewards                         # update the score (for each agent)\n",
    "    states = next_states                               # roll over states to next time step\n",
    "    if np.any(dones):                                  # exit loop if episode finished\n",
    "        break\n",
    "print('Total score (averaged over agents) this episode: {}'.format(np.mean(scores)))"
   ]
  },
  {
   "cell_type": "markdown",
   "metadata": {},
   "source": [
    "# DDPG Implementation"
   ]
  },
  {
   "cell_type": "code",
   "execution_count": 15,
   "metadata": {},
   "outputs": [],
   "source": [
    "state_dim = int(env_info.vector_observations.shape[1])\n",
    "action_dim = int(brain.vector_action_space_size)\n",
    "\n",
    "#Declare Agent class\n",
    "agent = Agent(state_size=state_dim, action_size=action_dim)"
   ]
  },
  {
   "cell_type": "code",
   "execution_count": null,
   "metadata": {},
   "outputs": [],
   "source": [
    "def ddpg(episodes, step, pretrained=False, noise=True):\n",
    "    \"\"\"Training using DDPG\"\"\"\n",
    "    if pretrained:\n",
    "        agent.actor_local.load_state_dict(torch.load('./models/weights/checkpoint_actor.pth', map_location=\"cpu\"))\n",
    "        agent.critic_local.load_state_dict(torch.load('.models/weights/checkpoint_critic.pth', map_location=\"cpu\"))\n",
    "        agent.actor_target.load_state_dict(torch.load('.models/weights/checkpoint_actor.pth', map_location=\"cpu\"))\n",
    "        agent.critic_target.load_state_dict(torch.load('.models/weights/checkpoint_critic.pth', map_location=\"cpu\"))\n",
    "\n",
    "    reward_list = []\n",
    "    time_list = []\n",
    "\n",
    "    for i in range(episodes):\n",
    "        env_info = env.reset(train_mode=True)[brain_name] #reset the env.\n",
    "        agent.reset()#reset OUNoise level\n",
    "        state = env_info.vector_observations[0] # get the current state\n",
    "        score = 0\n",
    "        for t in range(step):\n",
    "            action = agent.act(state, add_noise=noise)\n",
    "            next_state, reward, done, info = env.step(action[0])[brain_name] # send the action to the environment\n",
    "            agent.step(state, action, reward, next_state, done)\n",
    "            state = next_state.squeeze()\n",
    "            score += reward\n",
    "\n",
    "            if done:\n",
    "                #print recent statistics every 10 episodes\n",
    "                if(i%10 == 0):\n",
    "                    print('Reward: {} | Episode: {}/{}'.format(np.array(reward_list)[-10:].mean(), i, episodes))\n",
    "                    print(f\"Timesteps: {t}. Time (sec): {format(np.array(time_list)[-10:].mean()/50, '.3f')}\") #fps according to OpenAI = 50\n",
    "                break\n",
    "\n",
    "        reward_list.append(score)\n",
    "        time_list.append(t)\n",
    "        #Save model every 100 episodes\n",
    "        if(i%100 == 0):\n",
    "            print(f\"\\nMEAN REWARD: {np.array(reward_list)[-100:].mean()}\\n\")\n",
    "            torch.save(agent.actor_local.state_dict(), './models/checkpoint/checkpoint_actor_'+str(\"%03d\" % (i//100))+'.pth')\n",
    "            torch.save(agent.critic_local.state_dict(), './models/checkpoint/checkpoint_critic_'+str(\"%03d\" % (i//100))+'.pth')\n",
    "            torch.save(agent.actor_target.state_dict(), './models/checkpoint/checkpoint_actor_t_'+str(\"%03d\" % (i//100))+'.pth')\n",
    "            torch.save(agent.critic_target.state_dict(), './models/checkpoint/checkpoint_critic_t_'+str(\"%03d\" % (i//100))+'.pth')\n",
    "            \n",
    "        if score >= 270:\n",
    "            print('Task Solved')\n",
    "            torch.save(agent.actor_local.state_dict(), './models/weights/checkpoint_actor.pth')\n",
    "            torch.save(agent.critic_local.state_dict(), './models/weights/checkpoint_critic.pth')\n",
    "            torch.save(agent.actor_target.state_dict(), './models/weights/checkpoint_actor_t.pth')\n",
    "            torch.save(agent.critic_target.state_dict(), './models/weights/checkpoint_critic_t.pth')\n",
    "            break\n",
    "        \n",
    "\n",
    "    torch.save(agent.actor_local.state_dict(), './models/weights/checkpoint_actor.pth')\n",
    "    torch.save(agent.critic_local.state_dict(), './models/weights/checkpoint_critic.pth')\n",
    "    torch.save(agent.actor_target.state_dict(), './models/weights/checkpoint_actor_t.pth')\n",
    "    torch.save(agent.critic_target.state_dict(), './models/weights/checkpoint_critic_t.pth')\n",
    "\n",
    "    print('Training saved')\n",
    "    return reward_list, time_list\n",
    "\n",
    "\n",
    "scores, time_list = ddpg(episodes=5000, step=2000)\n",
    "\n",
    "#Display Scores\n",
    "fig = plt.figure()\n",
    "plt.plot(np.arange(1, len(scores) + 1), scores)\n",
    "plt.ylabel('Score')\n",
    "plt.xlabel('Episode #')\n",
    "plt.show()\n",
    "\n",
    "#Display time\n",
    "fig = plt.figure()\n",
    "plt.plot(np.arange(1, len(time_list) + 1), time_list)\n",
    "plt.ylabel('Time')\n",
    "plt.xlabel('Episode #')\n",
    "plt.show()"
   ]
  }
 ],
 "metadata": {
  "kernelspec": {
   "display_name": "Python 3",
   "language": "python",
   "name": "python3"
  },
  "language_info": {
   "codemirror_mode": {
    "name": "ipython",
    "version": 3
   },
   "file_extension": ".py",
   "mimetype": "text/x-python",
   "name": "python",
   "nbconvert_exporter": "python",
   "pygments_lexer": "ipython3",
   "version": "3.6.10"
  }
 },
 "nbformat": 4,
 "nbformat_minor": 4
}
