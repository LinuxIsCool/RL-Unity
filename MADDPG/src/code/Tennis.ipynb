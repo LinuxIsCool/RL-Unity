{
 "cells": [
  {
   "cell_type": "markdown",
   "metadata": {},
   "source": [
    "## Implementing MADDPG based on full competition phase (1-competition, 0-cooperation)"
   ]
  },
  {
   "cell_type": "code",
   "execution_count": 34,
   "metadata": {},
   "outputs": [],
   "source": [
    "from unityagents import UnityEnvironment\n",
    "import numpy as np\n",
    "import random\n",
    "import torch\n",
    "from collections import deque\n",
    "from maddpg import MADDPG\n",
    "import pandas as pd\n",
    "import matplotlib.pyplot as plt"
   ]
  },
  {
   "cell_type": "code",
   "execution_count": 2,
   "metadata": {},
   "outputs": [
    {
     "name": "stderr",
     "output_type": "stream",
     "text": [
      "INFO:unityagents:\n",
      "'Academy' started successfully!\n",
      "Unity Academy name: Academy\n",
      "        Number of Brains: 1\n",
      "        Number of External Brains : 1\n",
      "        Lesson number : 0\n",
      "        Reset Parameters :\n",
      "\t\t\n",
      "Unity brain name: TennisBrain\n",
      "        Number of Visual Observations (per agent): 0\n",
      "        Vector Observation space type: continuous\n",
      "        Vector Observation space size (per agent): 8\n",
      "        Number of stacked Vector Observation: 3\n",
      "        Vector Action space type: continuous\n",
      "        Vector Action space size (per agent): 2\n",
      "        Vector Action descriptions: , \n"
     ]
    }
   ],
   "source": [
    "env = UnityEnvironment(file_name=\"../../unity/Tennis.app\")"
   ]
  },
  {
   "cell_type": "code",
   "execution_count": 3,
   "metadata": {},
   "outputs": [],
   "source": [
    "#get the default brain\n",
    "brain_name = env.brain_names[0]\n",
    "brain = env.brains[brain_name]"
   ]
  },
  {
   "cell_type": "markdown",
   "metadata": {},
   "source": [
    "## Examine State Space"
   ]
  },
  {
   "cell_type": "code",
   "execution_count": 4,
   "metadata": {},
   "outputs": [
    {
     "name": "stdout",
     "output_type": "stream",
     "text": [
      "Number of agents: 2\n",
      "Size of each action: 2\n",
      "There are 2 agents. Each observes a state with length: 24\n",
      "The state for the first agent looks like: [ 0.          0.          0.          0.          0.          0.\n",
      "  0.          0.          0.          0.          0.          0.\n",
      "  0.          0.          0.          0.         -6.65278625 -1.5\n",
      " -0.          0.          6.83172083  6.         -0.          0.        ]\n"
     ]
    }
   ],
   "source": [
    "# reset the environment\n",
    "env_info = env.reset(train_mode=True)[brain_name]\n",
    "\n",
    "# number of agents \n",
    "num_agents = len(env_info.agents)\n",
    "print('Number of agents:', num_agents)\n",
    "\n",
    "# size of each action\n",
    "action_size = brain.vector_action_space_size\n",
    "print('Size of each action:', action_size)\n",
    "\n",
    "# examine the state space \n",
    "states = env_info.vector_observations\n",
    "state_size = states.shape[1]\n",
    "print('There are {} agents. Each observes a state with length: {}'.format(states.shape[0], state_size))\n",
    "print('The state for the first agent looks like:', states[0])"
   ]
  },
  {
   "cell_type": "markdown",
   "metadata": {},
   "source": [
    "# Test random agents"
   ]
  },
  {
   "cell_type": "code",
   "execution_count": 5,
   "metadata": {},
   "outputs": [],
   "source": [
    "# for i in range(1, 6):                                      # play game for 5 episodes\n",
    "#     env_info = env.reset(train_mode=False)[brain_name]     # reset the environment    \n",
    "#     states = env_info.vector_observations                  # get the current state (for each agent)\n",
    "#     scores = np.zeros(num_agents)                          # initialize the score (for each agent)\n",
    "#     step_counter = 0\n",
    "#     while True:\n",
    "#         step_counter += 1\n",
    "#         actions = np.random.randn(num_agents, action_size) # select an action (for each agent)\n",
    "#         actions = np.clip(actions, -1, 1)                  # all actions between -1 and 1\n",
    "#         env_info = env.step(actions)[brain_name]           # send all actions to tne environment\n",
    "#         next_states = env_info.vector_observations         # get next state (for each agent)\n",
    "#         rewards = env_info.rewards                         # get reward (for each agent)\n",
    "#         dones = env_info.local_done                        # see if episode finished\n",
    "#         scores += env_info.rewards                         # update the score (for each agent)\n",
    "#         states = next_states                               # roll over states to next time step\n",
    "#         if np.any(dones):                                  # exit loop if episode finished\n",
    "#             break\n",
    "#     print('Score (max over agents) from episode {}: {}'.format(i, np.max(scores)))"
   ]
  },
  {
   "cell_type": "markdown",
   "metadata": {},
   "source": [
    "# Training"
   ]
  },
  {
   "cell_type": "code",
   "execution_count": 6,
   "metadata": {},
   "outputs": [],
   "source": [
    "state_dim = int(env_info.vector_observations.shape[1])\n",
    "action_dim = int(brain.vector_action_space_size)"
   ]
  },
  {
   "cell_type": "code",
   "execution_count": 7,
   "metadata": {},
   "outputs": [
    {
     "name": "stdout",
     "output_type": "stream",
     "text": [
      "Random seed value: 10\n"
     ]
    }
   ],
   "source": [
    "random_seed = round(np.random.rand()*100) #select a random seed value\n",
    "print(f\"Random seed value: {random_seed}\")"
   ]
  },
  {
   "cell_type": "code",
   "execution_count": 8,
   "metadata": {},
   "outputs": [],
   "source": [
    "#Creates 2 agents\n",
    "agent = MADDPG(num_agents, state_dim, action_dim, random_seed)"
   ]
  },
  {
   "cell_type": "code",
   "execution_count": 9,
   "metadata": {},
   "outputs": [],
   "source": [
    "def ddpg(n_episodes=1_000, print_every=100):\n",
    "    scores_deque = deque(maxlen=print_every)\n",
    "    scores = []\n",
    "    for i_episode in range(1, n_episodes+1):\n",
    "        env_info = env.reset(train_mode=True)[brain_name]\n",
    "        states = env_info.vector_observations                     \n",
    "        #Reset the agents noise level\n",
    "        agent.reset()\n",
    "        #initialize score value calculations for 2 agents\n",
    "        scores_episode = np.zeros(num_agents)\n",
    "        \n",
    "        while True:\n",
    "            actions = agent.act(states)                   #get action from agent\n",
    "            env_info = env.step(actions)[brain_name]      # send actions to the environment\n",
    "            next_states = env_info.vector_observations    # get next states   \n",
    "            rewards = env_info.rewards                    # get rewards   \n",
    "            dones = env_info.local_done                   # see if episodes finished\n",
    "            agent.step(states, actions, rewards, next_states, dones) #perform optimization\n",
    "            #Append stats\n",
    "            scores_episode += rewards\n",
    "            states = next_states                                \n",
    "\n",
    "            #break if any agents are done           \n",
    "            if np.any(dones):\n",
    "                break \n",
    "        \n",
    "        #calculate intermediate stats\n",
    "        score = np.max(scores_episode)\n",
    "        scores_deque.append(score)\n",
    "        scores.append(score)\n",
    "        \n",
    "        #display current stats\n",
    "        print('\\rEpisode {}\\tAverage Score: {:.4f}\\tCurrent Score: {:.4f}\\t Max Score: {:.4f}'\n",
    "              .format(i_episode, np.mean(scores_deque), score, np.max(scores_deque)), end=\"\")\n",
    "    \n",
    "        # Save checkpoint every 100 episodes\n",
    "        if i_episode % print_every == 0:\n",
    "            print('\\rEpisode {}\\tAverage Score: {:.4f}'.format(i_episode, np.mean(scores_deque)))\n",
    "            agent.saveCheckPoints(False)\n",
    "        \n",
    "        #break training if env solved    \n",
    "        if np.mean(scores_deque) >= 0.5:\n",
    "            agent.saveCheckPoints(True)\n",
    "            break\n",
    "        \n",
    "    return scores"
   ]
  },
  {
   "cell_type": "code",
   "execution_count": 10,
   "metadata": {},
   "outputs": [
    {
     "name": "stdout",
     "output_type": "stream",
     "text": [
      "Episode 100\tAverage Score: 0.0066\tCurrent Score: 0.0000\t Max Score: 0.1000\n",
      "Episode 200\tAverage Score: 0.3040\tCurrent Score: 0.1000\t Max Score: 2.6000\n",
      "Episode 230\tAverage Score: 0.5030\tCurrent Score: 1.6000\t Max Score: 2.6000"
     ]
    }
   ],
   "source": [
    "scores = ddpg()"
   ]
  },
  {
   "cell_type": "code",
   "execution_count": 11,
   "metadata": {},
   "outputs": [
    {
     "data": {
      "image/png": "[encoded data removed]",
      "text/plain": [
       "<Figure size 432x288 with 1 Axes>"
      ]
     },
     "metadata": {
      "needs_background": "light"
     },
     "output_type": "display_data"
    }
   ],
   "source": [
    "plt.plot(scores)\n",
    "plt.xlabel(\"Episode number\")\n",
    "plt.ylabel(\"Score\")\n",
    "plt.title(\"Score vs Episode number for Competitive agents\")\n",
    "plt.show()"
   ]
  },
  {
   "cell_type": "code",
   "execution_count": 12,
   "metadata": {},
   "outputs": [
    {
     "data": {
      "image/png": "[encoded data removed]",
      "text/plain": [
       "<Figure size 432x288 with 1 Axes>"
      ]
     },
     "metadata": {
      "needs_background": "light"
     },
     "output_type": "display_data"
    }
   ],
   "source": [
    "#perform rolling average\n",
    "df = pd.DataFrame(scores)\n",
    "df.rolling(window=round(0.1*len(scores))).mean().plot()\n",
    "plt.xlabel(\"Episode number\")\n",
    "plt.ylabel(\"Rolling Score\")\n",
    "plt.title(\"Score vs Episode number for Competitive agents\")\n",
    "plt.show()"
   ]
  },
  {
   "cell_type": "markdown",
   "metadata": {},
   "source": [
    "# Test"
   ]
  },
  {
   "cell_type": "code",
   "execution_count": 35,
   "metadata": {},
   "outputs": [],
   "source": [
    "agent = MADDPG(num_agents, state_dim, action_dim, random_seed)\n",
    "#Load agent\n",
    "agent.loadCheckPoints(isFinal=True)"
   ]
  },
  {
   "cell_type": "code",
   "execution_count": 23,
   "metadata": {},
   "outputs": [],
   "source": [
    "def test(n_episodes=10):\n",
    "    scores = []\n",
    "    for i_episode in range(1, n_episodes+1):\n",
    "        env_info = env.reset(train_mode=True)[brain_name]\n",
    "        states = env_info.vector_observations                     \n",
    "\n",
    "        #initialize score value calculations for 2 agents\n",
    "        scores_episode = np.zeros(num_agents)\n",
    "        \n",
    "        while True:\n",
    "            actions = agent.act(states)                   #get action from agent\n",
    "            env_info = env.step(actions)[brain_name]      # send actions to the environment\n",
    "            next_states = env_info.vector_observations    # get next states   \n",
    "            rewards = env_info.rewards                    # get rewards   \n",
    "            dones = env_info.local_done                   # see if episodes finished\n",
    "\n",
    "            #Append stats\n",
    "            scores_episode += rewards\n",
    "            states = next_states                                \n",
    "\n",
    "            #break if any agents are done           \n",
    "            if np.any(dones):\n",
    "                break \n",
    "        \n",
    "        #calculate intermediate stats\n",
    "        score = np.max(scores_episode)\n",
    "        scores.append(score)\n",
    "        \n",
    "        #display current stats\n",
    "        print('Episode {}\\tAverage Score: {:.4f}\\tCurrent Score: {:.4f}\\t Max Score: {:.4f}'\n",
    "              .format(i_episode, np.mean(scores), score, np.max(scores)))\n",
    "    \n",
    "    return scores"
   ]
  },
  {
   "cell_type": "code",
   "execution_count": 27,
   "metadata": {},
   "outputs": [
    {
     "name": "stdout",
     "output_type": "stream",
     "text": [
      "Episode 1\tAverage Score: 2.6000\tCurrent Score: 2.6000\t Max Score: 2.6000\n",
      "Episode 2\tAverage Score: 1.6500\tCurrent Score: 0.7000\t Max Score: 2.6000\n",
      "Episode 3\tAverage Score: 1.9667\tCurrent Score: 2.6000\t Max Score: 2.6000\n",
      "Episode 4\tAverage Score: 1.5225\tCurrent Score: 0.1900\t Max Score: 2.6000\n",
      "Episode 5\tAverage Score: 1.3580\tCurrent Score: 0.7000\t Max Score: 2.6000\n",
      "Episode 6\tAverage Score: 1.3317\tCurrent Score: 1.2000\t Max Score: 2.6000\n",
      "Episode 7\tAverage Score: 1.2843\tCurrent Score: 1.0000\t Max Score: 2.6000\n",
      "Episode 8\tAverage Score: 1.4238\tCurrent Score: 2.4000\t Max Score: 2.6000\n",
      "Episode 9\tAverage Score: 1.3767\tCurrent Score: 1.0000\t Max Score: 2.6000\n",
      "Episode 10\tAverage Score: 1.3790\tCurrent Score: 1.4000\t Max Score: 2.6000\n"
     ]
    }
   ],
   "source": [
    "test_scores = test()"
   ]
  },
  {
   "cell_type": "code",
   "execution_count": 28,
   "metadata": {},
   "outputs": [
    {
     "data": {
      "image/png": "[encoded data removed]",
      "text/plain": [
       "<Figure size 432x288 with 1 Axes>"
      ]
     },
     "metadata": {
      "needs_background": "light"
     },
     "output_type": "display_data"
    }
   ],
   "source": [
    "plt.plot(test_scores)\n",
    "plt.xlabel(\"Episode number\")\n",
    "plt.ylabel(\"Score\")\n",
    "plt.title(\"Test\")\n",
    "plt.show()"
   ]
  },
  {
   "cell_type": "code",
   "execution_count": null,
   "metadata": {},
   "outputs": [],
   "source": [
    "#end."
   ]
  }
 ],
 "metadata": {
  "kernelspec": {
   "display_name": "Python 3",
   "language": "python",
   "name": "python3"
  },
  "language_info": {
   "codemirror_mode": {
    "name": "ipython",
    "version": 3
   },
   "file_extension": ".py",
   "mimetype": "text/x-python",
   "name": "python",
   "nbconvert_exporter": "python",
   "pygments_lexer": "ipython3",
   "version": "3.6.10"
  }
 },
 "nbformat": 4,
 "nbformat_minor": 4
}
