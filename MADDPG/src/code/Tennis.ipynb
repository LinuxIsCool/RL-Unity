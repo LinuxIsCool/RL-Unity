{
 "cells": [
  {
   "cell_type": "markdown",
   "metadata": {},
   "source": [
    "## Implementing MADDPG based on full competition phase (1-competition, 0-cooperation)"
   ]
  },
  {
   "cell_type": "code",
   "execution_count": 1,
   "metadata": {},
   "outputs": [],
   "source": [
    "from unityagents import UnityEnvironment\n",
    "import numpy as np\n",
    "import random\n",
    "import torch\n",
    "from collections import deque\n",
    "from agent import Agent\n",
    "import pandas as pd\n",
    "import matplotlib.pyplot as plt"
   ]
  },
  {
   "cell_type": "code",
   "execution_count": 2,
   "metadata": {},
   "outputs": [
    {
     "name": "stderr",
     "output_type": "stream",
     "text": [
      "INFO:unityagents:\n",
      "'Academy' started successfully!\n",
      "Unity Academy name: Academy\n",
      "        Number of Brains: 1\n",
      "        Number of External Brains : 1\n",
      "        Lesson number : 0\n",
      "        Reset Parameters :\n",
      "\t\t\n",
      "Unity brain name: TennisBrain\n",
      "        Number of Visual Observations (per agent): 0\n",
      "        Vector Observation space type: continuous\n",
      "        Vector Observation space size (per agent): 8\n",
      "        Number of stacked Vector Observation: 3\n",
      "        Vector Action space type: continuous\n",
      "        Vector Action space size (per agent): 2\n",
      "        Vector Action descriptions: , \n"
     ]
    }
   ],
   "source": [
    "env = UnityEnvironment(file_name=\"../../unity/Tennis_Windows_x86_64/Tennis.exe\")"
   ]
  },
  {
   "cell_type": "code",
   "execution_count": 3,
   "metadata": {},
   "outputs": [],
   "source": [
    "# get the default brain\n",
    "brain_name = env.brain_names[0]\n",
    "brain = env.brains[brain_name]"
   ]
  },
  {
   "cell_type": "markdown",
   "metadata": {},
   "source": [
    "## Examine state space"
   ]
  },
  {
   "cell_type": "code",
   "execution_count": 4,
   "metadata": {
    "scrolled": true
   },
   "outputs": [
    {
     "name": "stdout",
     "output_type": "stream",
     "text": [
      "Number of agents: 2\n",
      "Size of each action: 2\n",
      "There are 2 agents. Each observes a state with length: 24\n",
      "The state for the first agent looks like: [ 0.          0.          0.          0.          0.          0.\n",
      "  0.          0.          0.          0.          0.          0.\n",
      "  0.          0.          0.          0.         -6.65278625 -1.5\n",
      " -0.          0.          6.83172083  6.         -0.          0.        ]\n"
     ]
    }
   ],
   "source": [
    "# reset the environment\n",
    "env_info = env.reset(train_mode=True)[brain_name]\n",
    "\n",
    "# number of agents \n",
    "num_agents = len(env_info.agents)\n",
    "print('Number of agents:', num_agents)\n",
    "\n",
    "# size of each action\n",
    "action_size = brain.vector_action_space_size\n",
    "print('Size of each action:', action_size)\n",
    "\n",
    "# examine the state space \n",
    "states = env_info.vector_observations\n",
    "state_size = states.shape[1]\n",
    "print('There are {} agents. Each observes a state with length: {}'.format(states.shape[0], state_size))\n",
    "print('The state for the first agent looks like:', states[0])"
   ]
  },
  {
   "cell_type": "markdown",
   "metadata": {},
   "source": [
    "## Testing random actions"
   ]
  },
  {
   "cell_type": "code",
   "execution_count": 5,
   "metadata": {},
   "outputs": [],
   "source": [
    "# for i in range(1, 6):                                      # play game for 5 episodes\n",
    "#     env_info = env.reset(train_mode=False)[brain_name]     # reset the environment    \n",
    "#     states = env_info.vector_observations                  # get the current state (for each agent)\n",
    "#     scores = np.zeros(num_agents)                          # initialize the score (for each agent)\n",
    "#     step_counter = 0\n",
    "#     while True:\n",
    "#         step_counter += 1\n",
    "#         actions = np.random.randn(num_agents, action_size) # select an action (for each agent)\n",
    "#         actions = np.clip(actions, -1, 1)                  # all actions between -1 and 1\n",
    "#         env_info = env.step(actions)[brain_name]           # send all actions to tne environment\n",
    "#         next_states = env_info.vector_observations         # get next state (for each agent)\n",
    "#         rewards = env_info.rewards                         # get reward (for each agent)\n",
    "#         dones = env_info.local_done                        # see if episode finished\n",
    "#         scores += env_info.rewards                         # update the score (for each agent)\n",
    "#         states = next_states                               # roll over states to next time step\n",
    "#         if np.any(dones):                                  # exit loop if episode finished\n",
    "#             print(f\"Episode: {i}, count: {step_counter}\")\n",
    "#             break\n",
    "#     print('Score (max over agents) from episode {}: {}'.format(i, np.max(scores)))"
   ]
  },
  {
   "cell_type": "markdown",
   "metadata": {},
   "source": [
    "# Training"
   ]
  },
  {
   "cell_type": "code",
   "execution_count": 6,
   "metadata": {},
   "outputs": [],
   "source": [
    "state_dim = int(env_info.vector_observations.shape[1])\n",
    "action_dim = int(brain.vector_action_space_size)"
   ]
  },
  {
   "cell_type": "code",
   "execution_count": 7,
   "metadata": {},
   "outputs": [
    {
     "name": "stdout",
     "output_type": "stream",
     "text": [
      "Random seed value: 13\n"
     ]
    }
   ],
   "source": [
    "random_seed = round(np.random.rand()*100) #select a random seed value\n",
    "print(f\"Random seed value: {random_seed}\")"
   ]
  },
  {
   "cell_type": "code",
   "execution_count": 8,
   "metadata": {},
   "outputs": [],
   "source": [
    "#set some params\n",
    "N_LEARN_UPDATES = 10     # number of learning updates\n",
    "N_TIME_STEPS = 20       # every n time step do update"
   ]
  },
  {
   "cell_type": "code",
   "execution_count": 9,
   "metadata": {},
   "outputs": [],
   "source": [
    "# Initialise the two agents\n",
    "agent1 = Agent(state_size=state_size, action_size=action_size, random_seed=random_seed)\n",
    "agent2 = Agent(state_size=state_size, action_size=action_size, random_seed=random_seed)"
   ]
  },
  {
   "cell_type": "code",
   "execution_count": 10,
   "metadata": {},
   "outputs": [],
   "source": [
    "def ddpg(n_episodes=3_000, max_t=3_000, print_every=100):\n",
    "    scores_deque = deque(maxlen=print_every)\n",
    "    scores = []\n",
    "    for i_episode in range(1, n_episodes+1):\n",
    "\n",
    "        env_info = env.reset(train_mode=True)[brain_name]\n",
    "        states = env_info.vector_observations                     \n",
    "        #Reset the two agents' noise level\n",
    "        agent1.reset()\n",
    "        agent2.reset()\n",
    "\n",
    "        #initialize score value calculations for 2 agents\n",
    "        scores_episode = np.zeros(num_agents)\n",
    "        \n",
    "        for t in range(max_t):\n",
    "            state1, state2 = states #agent_1 and agent_2 states\n",
    "            #Reshape the states\n",
    "            state1 = state1.reshape((1,states.shape[1]))\n",
    "            state2 = state2.reshape((1,states.shape[1]))\n",
    "            #Set competitive actions\n",
    "            action1 = agent1.act(state1)\n",
    "            action2 = agent2.act(state2)\n",
    "            # send actions to the environment \n",
    "            env_info = env.step([action1, action2])[brain_name] \n",
    "            # get next states\n",
    "            next_states = env_info.vector_observations   \n",
    "            # get rewards\n",
    "            rewards = env_info.rewards    \n",
    "            # see if episodes finished\n",
    "            dones = env_info.local_done\n",
    "\n",
    "            #append to memory buffer for both agents\n",
    "            for state, action, reward, next_state, done in zip(states, [action1, action2], rewards, next_states, dones):\n",
    "                agent1.memory.add(state, action, reward, next_state, done) #append to memory buffer\n",
    "                agent2.memory.add(state, action, reward, next_state, done) #append to memory buffer\n",
    "            \n",
    "            #Proceed training for both agents\n",
    "            if(t%N_TIME_STEPS == 0):\n",
    "                for _ in range(N_LEARN_UPDATES):\n",
    "                    agent1.step(t, state, action, reward, next_state, done)\n",
    "                    agent2.step(t, state, action, reward, next_state, done) \n",
    "                            \n",
    "            #Append stats\n",
    "            scores_episode += rewards\n",
    "            states = next_states                                \n",
    "\n",
    "            #break if both agents are done           \n",
    "            if np.all(dones):\n",
    "                break \n",
    "        \n",
    "        #calculate intermediate stats\n",
    "        score = np.max(scores_episode)\n",
    "        scores_deque.append(score)\n",
    "        scores.append(score)\n",
    "        \n",
    "        #display current stats\n",
    "        print('\\rEpisode {}\\tAverage Score: {:.4f}\\tCurrent Score: {:.4f}'.format(i_episode, np.mean(scores_deque), score), end=\"\")\n",
    "    \n",
    "        # Save checkpoint every 100 episodes\n",
    "        if i_episode % print_every == 0:\n",
    "            print('\\rEpisode {}\\tAverage Score: {:.4f}'.format(i_episode, np.mean(scores_deque)))\n",
    "            torch.save(agent1.actor_local.state_dict(), '../models/checkpoint/actor_1.pth')\n",
    "            torch.save(agent1.critic_local.state_dict(), '../models/checkpoint/critic_1.pth')\n",
    "            torch.save(agent2.actor_local.state_dict(), '../models/checkpoint/actor_2.pth')\n",
    "            torch.save(agent2.critic_local.state_dict(), '../models/checkpoint/critic_2.pth')\n",
    "        \n",
    "        #break training if env solved    \n",
    "        if np.mean(scores_deque) >= 0.5:\n",
    "            torch.save(agent1.actor_local.state_dict(), '../models/actor_1.pth')\n",
    "            torch.save(agent1.critic_local.state_dict(), '../models/critic_1.pth')\n",
    "            torch.save(agent2.actor_local.state_dict(), '../models/actor_2.pth')\n",
    "            torch.save(agent2.critic_local.state_dict(), '../models/critic_2.pth')\n",
    "            break\n",
    "        \n",
    "    return scores"
   ]
  },
  {
   "cell_type": "code",
   "execution_count": 11,
   "metadata": {
    "scrolled": true
   },
   "outputs": [
    {
     "name": "stdout",
     "output_type": "stream",
     "text": [
      "Episode 100\tAverage Score: 0.0000\tCurrent Score: 0.0000\n",
      "Episode 200\tAverage Score: 0.0046\tCurrent Score: 0.0000\n",
      "Episode 300\tAverage Score: 0.0027\tCurrent Score: 0.0000\n",
      "Episode 400\tAverage Score: 0.0018\tCurrent Score: 0.0000\n",
      "Episode 500\tAverage Score: 0.0000\tCurrent Score: 0.0000\n",
      "Episode 600\tAverage Score: 0.0037\tCurrent Score: 0.0000\n",
      "Episode 700\tAverage Score: 0.0195\tCurrent Score: 0.0900\n",
      "Episode 800\tAverage Score: 0.0383\tCurrent Score: 0.0000\n",
      "Episode 900\tAverage Score: 0.0569\tCurrent Score: 0.0000\n",
      "Episode 1000\tAverage Score: 0.0813\tCurrent Score: 0.0000\n",
      "Episode 1100\tAverage Score: 0.0805\tCurrent Score: 0.0000\n",
      "Episode 1200\tAverage Score: 0.1099\tCurrent Score: 0.1000\n",
      "Episode 1300\tAverage Score: 0.1236\tCurrent Score: 0.1900\n",
      "Episode 1400\tAverage Score: 0.1101\tCurrent Score: 0.0900\n",
      "Episode 1500\tAverage Score: 0.1024\tCurrent Score: 0.1000\n",
      "Episode 1600\tAverage Score: 0.1087\tCurrent Score: 0.1000\n",
      "Episode 1700\tAverage Score: 0.1124\tCurrent Score: 0.1000\n",
      "Episode 1800\tAverage Score: 0.1280\tCurrent Score: 0.1000\n",
      "Episode 1900\tAverage Score: 0.1352\tCurrent Score: 0.2000\n",
      "Episode 2000\tAverage Score: 0.1107\tCurrent Score: 0.2000\n",
      "Episode 2100\tAverage Score: 0.1182\tCurrent Score: 0.0900\n",
      "Episode 2200\tAverage Score: 0.1200\tCurrent Score: 0.1000\n",
      "Episode 2300\tAverage Score: 0.1178\tCurrent Score: 0.1000\n",
      "Episode 2400\tAverage Score: 0.1159\tCurrent Score: 0.1000\n",
      "Episode 2500\tAverage Score: 0.1196\tCurrent Score: 0.1000\n",
      "Episode 2600\tAverage Score: 0.1094\tCurrent Score: 0.0900\n",
      "Episode 2700\tAverage Score: 0.1256\tCurrent Score: 0.1000\n",
      "Episode 2800\tAverage Score: 0.1251\tCurrent Score: 0.1000\n",
      "Episode 2900\tAverage Score: 0.1190\tCurrent Score: 0.1900\n",
      "Episode 3000\tAverage Score: 0.1216\tCurrent Score: 0.0900\n"
     ]
    }
   ],
   "source": [
    "scores = ddpg()"
   ]
  },
  {
   "cell_type": "code",
   "execution_count": 12,
   "metadata": {},
   "outputs": [
    {
     "data": {
      "image/png": "[encoded data removed]",
      "text/plain": [
       "<matplotlib.figure.Figure at 0x25039b4d5c0>"
      ]
     },
     "metadata": {
      "needs_background": "light"
     },
     "output_type": "display_data"
    }
   ],
   "source": [
    "plt.plot(scores)\n",
    "plt.xlabel(\"Episode number\")\n",
    "plt.ylabel(\"Score (max)\")\n",
    "plt.title(\"Score vs Episode number for Competitive agents\")\n",
    "plt.show()"
   ]
  },
  {
   "cell_type": "code",
   "execution_count": 13,
   "metadata": {},
   "outputs": [
    {
     "data": {
      "image/png": "[encoded data removed]",
      "text/plain": [
       "<matplotlib.figure.Figure at 0x25039b1b630>"
      ]
     },
     "metadata": {
      "needs_background": "light"
     },
     "output_type": "display_data"
    }
   ],
   "source": [
    "#perform rolling average\n",
    "df = pd.DataFrame(scores)\n",
    "df.rolling(window=round(0.1*len(scores))).mean().plot()\n",
    "plt.xlabel(\"Episode number\")\n",
    "plt.ylabel(\"Score (max)\")\n",
    "plt.title(\"Score vs Episode number for Competitive agents\")\n",
    "plt.show()"
   ]
  },
  {
   "cell_type": "markdown",
   "metadata": {},
   "source": [
    "### Analysis"
   ]
  },
  {
   "cell_type": "code",
   "execution_count": 14,
   "metadata": {},
   "outputs": [],
   "source": [
    "#TODO:"
   ]
  }
 ],
 "metadata": {
  "kernelspec": {
   "display_name": "Python 3",
   "language": "python",
   "name": "python3"
  },
  "language_info": {
   "codemirror_mode": {
    "name": "ipython",
    "version": 3
   },
   "file_extension": ".py",
   "mimetype": "text/x-python",
   "name": "python",
   "nbconvert_exporter": "python",
   "pygments_lexer": "ipython3",
   "version": "3.6.10"
  }
 },
 "nbformat": 4,
 "nbformat_minor": 4
}
