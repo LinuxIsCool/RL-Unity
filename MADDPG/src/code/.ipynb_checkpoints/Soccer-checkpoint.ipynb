{
 "cells": [
  {
   "cell_type": "markdown",
   "metadata": {},
   "source": [
    "## Implementing MADDPG based on full competition phase (1-competition, 0-cooperation)"
   ]
  },
  {
   "cell_type": "code",
   "execution_count": 1,
   "metadata": {},
   "outputs": [],
   "source": [
    "from unityagents import UnityEnvironment\n",
    "import numpy as np\n",
    "import random\n",
    "import torch\n",
    "from collections import deque\n",
    "from maddpg import MADDPG\n",
    "import pandas as pd\n",
    "import matplotlib.pyplot as plt"
   ]
  },
  {
   "cell_type": "code",
   "execution_count": 2,
   "metadata": {},
   "outputs": [
    {
     "name": "stderr",
     "output_type": "stream",
     "text": [
      "INFO:unityagents:\n",
      "'Academy' started successfully!\n",
      "Unity Academy name: Academy\n",
      "        Number of Brains: 2\n",
      "        Number of External Brains : 2\n",
      "        Lesson number : 0\n",
      "        Reset Parameters :\n",
      "\t\t\n",
      "Unity brain name: GoalieBrain\n",
      "        Number of Visual Observations (per agent): 0\n",
      "        Vector Observation space type: continuous\n",
      "        Vector Observation space size (per agent): 112\n",
      "        Number of stacked Vector Observation: 3\n",
      "        Vector Action space type: discrete\n",
      "        Vector Action space size (per agent): 4\n",
      "        Vector Action descriptions: , , , \n",
      "Unity brain name: StrikerBrain\n",
      "        Number of Visual Observations (per agent): 0\n",
      "        Vector Observation space type: continuous\n",
      "        Vector Observation space size (per agent): 112\n",
      "        Number of stacked Vector Observation: 3\n",
      "        Vector Action space type: discrete\n",
      "        Vector Action space size (per agent): 6\n",
      "        Vector Action descriptions: , , , , , \n"
     ]
    }
   ],
   "source": [
    "env = UnityEnvironment(file_name=\"../../unity/Soccer.app\")"
   ]
  },
  {
   "cell_type": "code",
   "execution_count": 3,
   "metadata": {},
   "outputs": [
    {
     "name": "stdout",
     "output_type": "stream",
     "text": [
      "['GoalieBrain', 'StrikerBrain']\n"
     ]
    }
   ],
   "source": [
    "# print the brain names\n",
    "print(env.brain_names)\n",
    "\n",
    "# set the goalie brain\n",
    "g_brain_name = env.brain_names[0]\n",
    "g_brain = env.brains[g_brain_name]\n",
    "\n",
    "# set the striker brain\n",
    "s_brain_name = env.brain_names[1]\n",
    "s_brain = env.brains[s_brain_name]"
   ]
  },
  {
   "cell_type": "markdown",
   "metadata": {},
   "source": [
    "## Examine State Space"
   ]
  },
  {
   "cell_type": "code",
   "execution_count": 4,
   "metadata": {},
   "outputs": [
    {
     "name": "stdout",
     "output_type": "stream",
     "text": [
      "Number of goalie agents: 2\n",
      "Number of striker agents: 2\n",
      "Number of goalie actions: 4\n",
      "Number of striker actions: 6\n",
      "There are 2 goalie agents. Each receives a state with length: 336\n",
      "There are 2 striker agents. Each receives a state with length: 336\n"
     ]
    }
   ],
   "source": [
    "\n",
    "# reset the environment\n",
    "env_info = env.reset(train_mode=True)\n",
    "\n",
    "# number of agents \n",
    "num_g_agents = len(env_info[g_brain_name].agents)\n",
    "print('Number of goalie agents:', num_g_agents)\n",
    "num_s_agents = len(env_info[s_brain_name].agents)\n",
    "print('Number of striker agents:', num_s_agents)\n",
    "\n",
    "# number of actions\n",
    "g_action_size = g_brain.vector_action_space_size\n",
    "print('Number of goalie actions:', g_action_size)\n",
    "s_action_size = s_brain.vector_action_space_size\n",
    "print('Number of striker actions:', s_action_size)\n",
    "\n",
    "# examine the state space \n",
    "g_states = env_info[g_brain_name].vector_observations\n",
    "g_state_size = g_states.shape[1]\n",
    "print('There are {} goalie agents. Each receives a state with length: {}'.format(g_states.shape[0], g_state_size))\n",
    "s_states = env_info[s_brain_name].vector_observations\n",
    "s_state_size = s_states.shape[1]\n",
    "print('There are {} striker agents. Each receives a state with length: {}'.format(s_states.shape[0], s_state_size))"
   ]
  },
  {
   "cell_type": "markdown",
   "metadata": {},
   "source": [
    "# Test random agents"
   ]
  },
  {
   "cell_type": "code",
   "execution_count": 5,
   "metadata": {},
   "outputs": [],
   "source": [
    "# for i in range(2):                                         # play game for 2 episodes\n",
    "#     env_info = env.reset(train_mode=False)                 # reset the environment    \n",
    "#     g_states = env_info[g_brain_name].vector_observations  # get initial state (goalies)\n",
    "#     s_states = env_info[s_brain_name].vector_observations  # get initial state (strikers)\n",
    "#     g_scores = np.zeros(num_g_agents)                      # initialize the score (goalies)\n",
    "#     s_scores = np.zeros(num_s_agents)                      # initialize the score (strikers)\n",
    "    \n",
    "#     while True:\n",
    "#         # select actions and send to environment\n",
    "#         g_actions = np.random.randint(g_action_size, size=num_g_agents)\n",
    "#         s_actions = np.random.randint(s_action_size, size=num_s_agents)\n",
    "#         actions = dict(zip([g_brain_name, s_brain_name], \n",
    "#                            [g_actions, s_actions]))\n",
    "#         env_info = env.step(actions)                       \n",
    "        \n",
    "#         # get next states\n",
    "#         g_next_states = env_info[g_brain_name].vector_observations         \n",
    "#         s_next_states = env_info[s_brain_name].vector_observations\n",
    "        \n",
    "#         # get reward and update scores\n",
    "#         g_rewards = env_info[g_brain_name].rewards  \n",
    "#         s_rewards = env_info[s_brain_name].rewards\n",
    "#         g_scores += g_rewards\n",
    "#         s_scores += s_rewards\n",
    "        \n",
    "#         # check if episode finished\n",
    "#         done = np.any(env_info[g_brain_name].local_done)  \n",
    "        \n",
    "#         # roll over states to next time step\n",
    "#         g_states = g_next_states\n",
    "#         s_states = s_next_states\n",
    "        \n",
    "#         # exit loop if episode finished\n",
    "#         if done:                                           \n",
    "#             break\n",
    "#     print('Scores from episode {}: {} (goalies), {} (strikers)'.format(i+1, g_scores, s_scores))"
   ]
  },
  {
   "cell_type": "markdown",
   "metadata": {},
   "source": [
    "# Training"
   ]
  },
  {
   "cell_type": "code",
   "execution_count": 6,
   "metadata": {},
   "outputs": [],
   "source": [
    "#Goalie Dimensions\n",
    "goalie_state_dim = int(env_info[g_brain_name].vector_observations.shape[1])\n",
    "goalie_action_dim = int(g_brain.vector_action_space_size)\n",
    "#Striker Dimensions\n",
    "striker_state_dim = int(env_info[s_brain_name].vector_observations.shape[1])\n",
    "striker_action_dim = int(s_brain.vector_action_space_size)"
   ]
  },
  {
   "cell_type": "code",
   "execution_count": 7,
   "metadata": {},
   "outputs": [
    {
     "name": "stdout",
     "output_type": "stream",
     "text": [
      "Random seed value: 10\n"
     ]
    }
   ],
   "source": [
    "random_seed = 10#round(np.random.rand()*100) #select a random seed value\n",
    "print(f\"Random seed value: {random_seed}\")"
   ]
  },
  {
   "cell_type": "code",
   "execution_count": 8,
   "metadata": {},
   "outputs": [],
   "source": [
    "#Creates 2 Goalie agents\n",
    "goalie_agents = MADDPG(num_g_agents, goalie_state_dim, goalie_action_dim, random_seed)\n",
    "#Creates 2 Striker agents\n",
    "striker_agents = MADDPG(num_s_agents, striker_state_dim, striker_action_dim, random_seed)"
   ]
  },
  {
   "cell_type": "code",
   "execution_count": 9,
   "metadata": {},
   "outputs": [],
   "source": [
    "def ddpg(n_episodes=1_000, print_every=100):\n",
    "    #Store training results\n",
    "    g_scores_train = []\n",
    "    s_scores_train = []\n",
    "    #rolling scores\n",
    "    g_scores_deque = deque(maxlen=print_every)\n",
    "    s_scores_deque = deque(maxlen=print_every)\n",
    "    for i_episode in range(1, n_episodes+1):\n",
    "        \n",
    "        env_info = env.reset(train_mode=False)                 # reset the environment    \n",
    "        #States\n",
    "        g_states = env_info[g_brain_name].vector_observations  # get initial state (goalies)\n",
    "        s_states = env_info[s_brain_name].vector_observations  # get initial state (strikers)\n",
    "        #Scores\n",
    "        g_scores = np.zeros(num_g_agents)                      # initialize the score (goalies)\n",
    "        s_scores = np.zeros(num_s_agents)                      # initialize the score (strikers)\n",
    "        #Reset goalie agents noise level\n",
    "        goalie_agents.reset()\n",
    "        #Reset striker agents noise level\n",
    "        striker_agents.reset()\n",
    "        \n",
    "        while True:\n",
    "            # select actions and send to environment\n",
    "            g_actions = goalie_agents.act(g_states)\n",
    "            s_actions = striker_agents.act(s_states)\n",
    "            #load actions (goalie and striker in a dictionary for Unity brain)\n",
    "            actions = dict(zip([g_brain_name, s_brain_name], \n",
    "                               [g_actions, s_actions]))\n",
    "            env_info = env.step(actions)                       \n",
    "\n",
    "            # get next states\n",
    "            g_next_states = env_info[g_brain_name].vector_observations         \n",
    "            s_next_states = env_info[s_brain_name].vector_observations\n",
    "\n",
    "            # get reward and update scores\n",
    "            g_rewards = env_info[g_brain_name].rewards  \n",
    "            s_rewards = env_info[s_brain_name].rewards\n",
    "            g_scores += g_rewards\n",
    "            s_scores += s_rewards\n",
    "\n",
    "            # check if episode finished\n",
    "            g_dones = env_info[g_brain_name].local_done\n",
    "            s_dones = env_info[s_brain_name].local_done\n",
    "            \n",
    "            #perform training step\n",
    "            goalie_agents.step(g_states, g_actions, g_rewards, g_next_states, g_dones) #perform optimization\n",
    "            striker_agents.step(s_states, s_actions, s_rewards, s_next_states, s_dones) #perform optimization\n",
    "            \n",
    "            # roll over states to next time step\n",
    "            g_states = g_next_states\n",
    "            s_states = s_next_states\n",
    "\n",
    "            # exit loop if episode finished\n",
    "            if np.any([g_dones, s_dones]):                                           \n",
    "                break\n",
    "            \n",
    "        #calculate intermediate stats\n",
    "        score_g = np.max(g_scores)\n",
    "        score_s = np.max(s_scores)\n",
    "        g_scores_deque.append(score_g)\n",
    "        s_scores_deque.append(score_s)\n",
    "        #Append to main array\n",
    "        g_scores_train.append(score_g)\n",
    "        s_scores_train.append(score_s)\n",
    "        \n",
    "        #display current stats\n",
    "        print('\\rEpisode {}\\tAverage Goalie Score: {:.4f}\\tCurrent Goalie Score: {:.4f}\\t Max Goalie Score: {:.4f}'\n",
    "              .format(i_episode, np.mean(g_scores_deque), score_g, np.max(g_scores_deque)), end=\"\")\n",
    "\n",
    "        print('\\rEpisode {}\\tAverage Striker Score: {:.4f}\\tCurrent Striker Score: {:.4f}\\t Max Striker Score: {:.4f}'\n",
    "              .format(i_episode, np.mean(s_scores_deque), score_s, np.max(s_scores_deque)), end=\"\")\n",
    "    \n",
    "        # Save checkpoint every 100 episodes\n",
    "        if i_episode % print_every == 0:\n",
    "            print('\\rEpisode {}\\tAverage Score: {:.4f}'.format(i_episode, np.mean(scores_deque)))\n",
    "            goalie_agents.saveCheckPoints(False)\n",
    "            striker_agents.saveCheckPoints(False)\n",
    "        \n",
    "        #break training if env solved    \n",
    "        if np.mean(g_scores_deque) >= 1.5 and np.mean(s_scores_deque) >= 1.5: \n",
    "            goalie_agents.saveCheckPoints(False)\n",
    "            striker_agents.saveCheckPoints(False)\n",
    "            break\n",
    "        \n",
    "    return g_scores_train, s_scores_train"
   ]
  },
  {
   "cell_type": "code",
   "execution_count": 10,
   "metadata": {},
   "outputs": [
    {
     "name": "stdout",
     "output_type": "stream",
     "text": [
      "[1.]\n",
      "[1.]\n",
      "[0.]\n",
      "[0.]\n"
     ]
    },
    {
     "ename": "NameError",
     "evalue": "name 'g_done' is not defined",
     "output_type": "error",
     "traceback": [
      "\u001b[0;31m---------------------------------------------------------------------------\u001b[0m",
      "\u001b[0;31mNameError\u001b[0m                                 Traceback (most recent call last)",
      "\u001b[0;32m<ipython-input-10-2abee50410e1>\u001b[0m in \u001b[0;36m<module>\u001b[0;34m\u001b[0m\n\u001b[0;32m----> 1\u001b[0;31m \u001b[0mg_scores\u001b[0m\u001b[0;34m,\u001b[0m \u001b[0ms_scores\u001b[0m \u001b[0;34m=\u001b[0m \u001b[0mddpg\u001b[0m\u001b[0;34m(\u001b[0m\u001b[0;34m)\u001b[0m\u001b[0;34m\u001b[0m\u001b[0;34m\u001b[0m\u001b[0m\n\u001b[0m",
      "\u001b[0;32m<ipython-input-9-9a315b152736>\u001b[0m in \u001b[0;36mddpg\u001b[0;34m(n_episodes, print_every)\u001b[0m\n\u001b[1;32m     52\u001b[0m \u001b[0;34m\u001b[0m\u001b[0m\n\u001b[1;32m     53\u001b[0m             \u001b[0;31m# exit loop if episode finished\u001b[0m\u001b[0;34m\u001b[0m\u001b[0;34m\u001b[0m\u001b[0;34m\u001b[0m\u001b[0m\n\u001b[0;32m---> 54\u001b[0;31m             \u001b[0;32mif\u001b[0m \u001b[0mnp\u001b[0m\u001b[0;34m.\u001b[0m\u001b[0many\u001b[0m\u001b[0;34m(\u001b[0m\u001b[0;34m[\u001b[0m\u001b[0mg_done\u001b[0m\u001b[0;34m,\u001b[0m \u001b[0ms_done\u001b[0m\u001b[0;34m]\u001b[0m\u001b[0;34m)\u001b[0m\u001b[0;34m:\u001b[0m\u001b[0;34m\u001b[0m\u001b[0;34m\u001b[0m\u001b[0m\n\u001b[0m\u001b[1;32m     55\u001b[0m                 \u001b[0;32mbreak\u001b[0m\u001b[0;34m\u001b[0m\u001b[0;34m\u001b[0m\u001b[0m\n\u001b[1;32m     56\u001b[0m \u001b[0;34m\u001b[0m\u001b[0m\n",
      "\u001b[0;31mNameError\u001b[0m: name 'g_done' is not defined"
     ]
    }
   ],
   "source": [
    "g_scores, s_scores = ddpg()"
   ]
  },
  {
   "cell_type": "code",
   "execution_count": null,
   "metadata": {},
   "outputs": [],
   "source": [
    "plt.plot(scores)\n",
    "plt.xlabel(\"Episode number\")\n",
    "plt.ylabel(\"Score\")\n",
    "plt.title(\"Score vs Episode number for Competitive agents\")\n",
    "plt.show()"
   ]
  },
  {
   "cell_type": "code",
   "execution_count": null,
   "metadata": {},
   "outputs": [],
   "source": [
    "#perform rolling average\n",
    "df = pd.DataFrame(scores)\n",
    "df.rolling(window=round(0.1*len(scores))).mean().plot()\n",
    "plt.xlabel(\"Episode number\")\n",
    "plt.ylabel(\"Rolling Score\")\n",
    "plt.title(\"Score vs Episode number for Competitive agents\")\n",
    "plt.show()"
   ]
  },
  {
   "cell_type": "markdown",
   "metadata": {},
   "source": [
    "# Test"
   ]
  },
  {
   "cell_type": "code",
   "execution_count": null,
   "metadata": {},
   "outputs": [],
   "source": [
    "agent = MADDPG(num_agents, state_dim, action_dim, random_seed)\n",
    "#Load agent\n",
    "agent.loadCheckPoints(isFinal=True)"
   ]
  },
  {
   "cell_type": "code",
   "execution_count": null,
   "metadata": {},
   "outputs": [],
   "source": [
    "def test(n_episodes=30):\n",
    "    scores = []\n",
    "    for i_episode in range(1, n_episodes+1):\n",
    "        env_info = env.reset(train_mode=True)[brain_name]\n",
    "        states = env_info.vector_observations                     \n",
    "\n",
    "        #initialize score value calculations for 2 agents\n",
    "        scores_episode = np.zeros(num_agents)\n",
    "        \n",
    "        while True:\n",
    "            actions = agent.act(states)                   #get action from agent\n",
    "            env_info = env.step(actions)[brain_name]      # send actions to the environment\n",
    "            next_states = env_info.vector_observations    # get next states   \n",
    "            rewards = env_info.rewards                    # get rewards   \n",
    "            dones = env_info.local_done                   # see if episodes finished\n",
    "\n",
    "            #Append stats\n",
    "            scores_episode += rewards\n",
    "            states = next_states                                \n",
    "\n",
    "            #break if any agents are done           \n",
    "            if np.any(dones):\n",
    "                break \n",
    "        \n",
    "        #calculate intermediate stats\n",
    "        score = np.max(scores_episode)\n",
    "        scores.append(score)\n",
    "        \n",
    "        #display current stats\n",
    "        print('Episode {}\\tAverage Score: {:.4f}\\tCurrent Score: {:.4f}\\t Max Score: {:.4f}'\n",
    "              .format(i_episode, np.mean(scores), score, np.max(scores)))\n",
    "    \n",
    "    return scores"
   ]
  },
  {
   "cell_type": "code",
   "execution_count": null,
   "metadata": {},
   "outputs": [],
   "source": [
    "test_scores = test()"
   ]
  },
  {
   "cell_type": "code",
   "execution_count": null,
   "metadata": {},
   "outputs": [],
   "source": [
    "plt.plot(test_scores)\n",
    "plt.xlabel(\"Episode number\")\n",
    "plt.ylabel(\"Score\")\n",
    "plt.title(\"Test\")\n",
    "plt.show()"
   ]
  },
  {
   "cell_type": "code",
   "execution_count": null,
   "metadata": {},
   "outputs": [],
   "source": [
    "#end."
   ]
  },
  {
   "cell_type": "code",
   "execution_count": null,
   "metadata": {},
   "outputs": [],
   "source": []
  }
 ],
 "metadata": {
  "kernelspec": {
   "display_name": "Python 3",
   "language": "python",
   "name": "python3"
  },
  "language_info": {
   "codemirror_mode": {
    "name": "ipython",
    "version": 3
   },
   "file_extension": ".py",
   "mimetype": "text/x-python",
   "name": "python",
   "nbconvert_exporter": "python",
   "pygments_lexer": "ipython3",
   "version": "3.6.10"
  }
 },
 "nbformat": 4,
 "nbformat_minor": 4
}
